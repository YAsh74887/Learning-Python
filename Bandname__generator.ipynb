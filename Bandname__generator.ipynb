{
  "nbformat": 4,
  "nbformat_minor": 0,
  "metadata": {
    "colab": {
      "name": "Bandname_ generator.ipynb",
      "provenance": [],
      "collapsed_sections": [],
      "authorship_tag": "ABX9TyPBpDeDxaFo0aYnslCurx0g",
      "include_colab_link": true
    },
    "kernelspec": {
      "name": "python3",
      "display_name": "Python 3"
    },
    "language_info": {
      "name": "python"
    }
  },
  "cells": [
    {
      "cell_type": "markdown",
      "metadata": {
        "id": "view-in-github",
        "colab_type": "text"
      },
      "source": [
        "<a href=\"https://colab.research.google.com/github/YAsh74887/Learning-Python-MIni-Projects/blob/main/Bandname__generator.ipynb\" target=\"_parent\"><img src=\"https://colab.research.google.com/assets/colab-badge.svg\" alt=\"Open In Colab\"/></a>"
      ]
    },
    {
      "cell_type": "code",
      "execution_count": 1,
      "metadata": {
        "id": "Y2d5AuAT0ccT",
        "colab": {
          "base_uri": "https://localhost:8080/"
        },
        "outputId": "c130f84e-2d42-4ef2-a07c-1d952bcc2a65"
      },
      "outputs": [
        {
          "output_type": "stream",
          "name": "stdout",
          "text": [
            "Welcome to the Band Name Generator. \n",
            "What's name of the city you grew up in?\n",
            "bistrol\n",
            "What's your pet's name?\n",
            "rabbit\n",
            "Your band name could be bistrol rabbit\n"
          ]
        }
      ],
      "source": [
        "print(\"Welcome to the Band Name Generator. \")\n",
        "a=input(\"What's name of the city you grew up in?\\n\")\n",
        "b=input(\"What's your pet's name?\\n\")\n",
        "print(\"Your band name could be \" + a +\" \"+  b)"
      ]
    }
  ]
}