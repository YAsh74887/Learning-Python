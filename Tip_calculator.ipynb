{
  "nbformat": 4,
  "nbformat_minor": 0,
  "metadata": {
    "colab": {
      "name": "Tip_calculator.ipynb",
      "provenance": [],
      "authorship_tag": "ABX9TyMurPNgjjxDsZYoBTiOlN4T",
      "include_colab_link": true
    },
    "kernelspec": {
      "name": "python3",
      "display_name": "Python 3"
    },
    "language_info": {
      "name": "python"
    }
  },
  "cells": [
    {
      "cell_type": "markdown",
      "metadata": {
        "id": "view-in-github",
        "colab_type": "text"
      },
      "source": [
        "<a href=\"https://colab.research.google.com/github/YAsh74887/Learning-Python-MIni-Projects/blob/main/Tip_calculator.ipynb\" target=\"_parent\"><img src=\"https://colab.research.google.com/assets/colab-badge.svg\" alt=\"Open In Colab\"/></a>"
      ]
    },
    {
      "cell_type": "code",
      "execution_count": 16,
      "metadata": {
        "colab": {
          "base_uri": "https://localhost:8080/"
        },
        "id": "o9SQH6O-dARS",
        "outputId": "84aeaa75-fb29-44d4-bb30-cb0596adfcfd"
      },
      "outputs": [
        {
          "output_type": "stream",
          "name": "stdout",
          "text": [
            "Welcome to the tip calculator\n",
            "What was the total bill?\n",
            "124.56\n",
            "What percentage tip would you like to give? 10, 12, or 15,\n",
            "12\n",
            "How many people to spilt the bill?\n",
            "7\n",
            "19.93\n"
          ]
        }
      ],
      "source": [
        "print(\"Welcome to the tip calculator\")\n",
        "a=float(input(\"What was the total bill?\\n\"))\n",
        "b=int(input(\"What percentage tip would you like to give? 10, 12, or 15,\\n\"))\n",
        "c=int(input(\"How many people to spilt the bill?\\n\"))\n",
        "\n",
        "percent=float(1+(b/100))\n",
        "total_bill=a*percent\n",
        "\n",
        "spilt=round(total_bill/c ,2)\n",
        "print(spilt)"
      ]
    }
  ]
}